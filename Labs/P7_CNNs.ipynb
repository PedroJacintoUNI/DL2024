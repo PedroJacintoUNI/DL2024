{
  "cells": [
    {
      "cell_type": "markdown",
      "metadata": {
        "id": "-jlGXqM_t452"
      },
      "source": [
        "# P7 - Convolutional Neural Networks (CNNs)\n",
        "We have now learned about the Perceptron, Linear and logistic regression, Multi-layer perceptron and backpropagation, Auto-encoders.\n",
        "\n",
        "In this pratical session about Convolutional Neural Networks (CNNs) we will use the MNIST datasets.\n",
        "\n",
        "First, we will obtain baselines using a Logistic Regression and a Feed-forward Neural Network."
      ]
    },
    {
      "cell_type": "markdown",
      "metadata": {
        "id": "ITJR4snhxdT0"
      },
      "source": [
        "## 0.0 - Imports\n",
        "We will need to import some libraries to be used in this session. Libraries include data visualizers ([matplotlib](https://matplotlib.org/)), neural network package ([torch](https://pytorch.org/)), and other helper packages for data handling ([sklearn](https://scikit-learn.org/), [numpy](https://numpy.org/))."
      ]
    },
    {
      "cell_type": "code",
      "execution_count": 1,
      "metadata": {
        "id": "MWGjU3tDw4bD"
      },
      "outputs": [],
      "source": [
        "import matplotlib.pyplot as plt\n",
        "import numpy as np\n",
        "from sklearn.base import BaseEstimator\n",
        "from sklearn.datasets import load_digits\n",
        "from sklearn.linear_model import LogisticRegression\n",
        "from sklearn.preprocessing import StandardScaler\n",
        "from sklearn.utils import check_random_state\n",
        "import torch\n",
        "import torch.nn as nn\n",
        "import torch.nn.functional as F\n",
        "import torch.optim as optim\n",
        "from torchvision import datasets, transforms\n",
        "from torch.autograd import Variable\n",
        "from torch.utils.data import Dataset, DataLoader\n",
        "from torch.utils.data.sampler import SubsetRandomSampler\n",
        "import time\n",
        "import copy"
      ]
    },
    {
      "cell_type": "markdown",
      "metadata": {
        "id": "W-od7M6WMN0N"
      },
      "source": [
        "Then, other variable definitions are needed to be set. This includes the size of the dataset we will use, and the configuration of the GPU to be activated:"
      ]
    },
    {
      "cell_type": "code",
      "execution_count": 2,
      "metadata": {
        "colab": {
          "base_uri": "https://localhost:8080/"
        },
        "id": "ECqewHJ0MM62",
        "outputId": "a8bf9e01-0dfb-4353-9013-eebfdc32a156"
      },
      "outputs": [
        {
          "output_type": "stream",
          "name": "stdout",
          "text": [
            "cuda:0\n"
          ]
        }
      ],
      "source": [
        "# Configure Device\n",
        "device = torch.device('cuda:0' if torch.cuda.is_available() else 'cpu')\n",
        "print(device)"
      ]
    },
    {
      "cell_type": "markdown",
      "metadata": {
        "id": "odY0Ng9yycgr"
      },
      "source": [
        "### 0.1 - Create Dataloaders\n",
        "#### MNIST dataset\n",
        "Using torchvision we can easily download and use the MNIST dataset to create our train and validation dataloaders"
      ]
    },
    {
      "cell_type": "code",
      "execution_count": 3,
      "metadata": {
        "id": "snFv-Hu-zRnW",
        "colab": {
          "base_uri": "https://localhost:8080/"
        },
        "outputId": "ffb8b5df-99cb-4544-bfec-8094bc5fd691"
      },
      "outputs": [
        {
          "output_type": "stream",
          "name": "stdout",
          "text": [
            "Downloading http://yann.lecun.com/exdb/mnist/train-images-idx3-ubyte.gz\n",
            "Downloading http://yann.lecun.com/exdb/mnist/train-images-idx3-ubyte.gz to ../data/MNIST/raw/train-images-idx3-ubyte.gz\n"
          ]
        },
        {
          "output_type": "stream",
          "name": "stderr",
          "text": [
            "100%|██████████| 9912422/9912422 [00:00<00:00, 136842783.23it/s]\n"
          ]
        },
        {
          "output_type": "stream",
          "name": "stdout",
          "text": [
            "Extracting ../data/MNIST/raw/train-images-idx3-ubyte.gz to ../data/MNIST/raw\n",
            "\n",
            "Downloading http://yann.lecun.com/exdb/mnist/train-labels-idx1-ubyte.gz\n",
            "Downloading http://yann.lecun.com/exdb/mnist/train-labels-idx1-ubyte.gz to ../data/MNIST/raw/train-labels-idx1-ubyte.gz\n"
          ]
        },
        {
          "output_type": "stream",
          "name": "stderr",
          "text": [
            "100%|██████████| 28881/28881 [00:00<00:00, 107294680.09it/s]\n"
          ]
        },
        {
          "output_type": "stream",
          "name": "stdout",
          "text": [
            "Extracting ../data/MNIST/raw/train-labels-idx1-ubyte.gz to ../data/MNIST/raw\n",
            "\n",
            "Downloading http://yann.lecun.com/exdb/mnist/t10k-images-idx3-ubyte.gz\n",
            "Downloading http://yann.lecun.com/exdb/mnist/t10k-images-idx3-ubyte.gz to ../data/MNIST/raw/t10k-images-idx3-ubyte.gz\n"
          ]
        },
        {
          "output_type": "stream",
          "name": "stderr",
          "text": [
            "100%|██████████| 1648877/1648877 [00:00<00:00, 43517794.35it/s]"
          ]
        },
        {
          "output_type": "stream",
          "name": "stdout",
          "text": [
            "Extracting ../data/MNIST/raw/t10k-images-idx3-ubyte.gz to ../data/MNIST/raw\n"
          ]
        },
        {
          "output_type": "stream",
          "name": "stderr",
          "text": [
            "\n"
          ]
        },
        {
          "output_type": "stream",
          "name": "stdout",
          "text": [
            "\n",
            "Downloading http://yann.lecun.com/exdb/mnist/t10k-labels-idx1-ubyte.gz\n",
            "Downloading http://yann.lecun.com/exdb/mnist/t10k-labels-idx1-ubyte.gz to ../data/MNIST/raw/t10k-labels-idx1-ubyte.gz\n"
          ]
        },
        {
          "output_type": "stream",
          "name": "stderr",
          "text": [
            "100%|██████████| 4542/4542 [00:00<00:00, 8592931.33it/s]\n"
          ]
        },
        {
          "output_type": "stream",
          "name": "stdout",
          "text": [
            "Extracting ../data/MNIST/raw/t10k-labels-idx1-ubyte.gz to ../data/MNIST/raw\n",
            "\n"
          ]
        }
      ],
      "source": [
        "# Define tranform - Convert data to tensor and normalize using dataset mean and std\n",
        "# mean and std are computed offline using the training dataset\n",
        "# tranforms.Normalize expects a value of mean and std per image channel\n",
        "mnist_transform = transforms.Compose(\n",
        "    [transforms.ToTensor(),\n",
        "     transforms.Normalize((0.1307,), (0.3081,))])\n",
        "\n",
        "# Download and create MNIST train and validation dataloaders\n",
        "mnist_train_dataset = datasets.MNIST('../data', download=True, train=True, transform=mnist_transform)\n",
        "mnist_val_dataset = datasets.MNIST('../data', download=True, train=False, transform=mnist_transform)\n",
        "mnist_train_dataloader = DataLoader(mnist_train_dataset, batch_size=64, shuffle=True)\n",
        "mnist_val_dataloader = DataLoader(mnist_val_dataset, batch_size=64, shuffle=True)\n",
        "\n",
        "# MNIST Dataloaders to get data into numpy for Logistic Regression\n",
        "mnist_train_dataloader_numpy = DataLoader(mnist_train_dataset, batch_size=len(mnist_train_dataset))\n",
        "mnist_val_dataloader_numpy = DataLoader(mnist_val_dataset, batch_size=len(mnist_val_dataset))\n",
        "X_y_train = next(iter(mnist_train_dataloader_numpy))\n",
        "X_y_val = next(iter(mnist_val_dataloader_numpy))\n",
        "X_train = X_y_train[0].numpy()\n",
        "y_train = X_y_train[1].numpy()\n",
        "X_val = X_y_val[0].numpy()\n",
        "y_val = X_y_val[1].numpy()\n",
        "\n",
        "dataloaders = dict(train=mnist_train_dataloader, val=mnist_val_dataloader)\n"
      ]
    },
    {
      "cell_type": "markdown",
      "metadata": {
        "id": "vJANJSJ0hsqd"
      },
      "source": [
        "We can check the MNIST dataset properties such as:\n",
        "\n",
        "- shape of train and validation datasets - \\[number of samples, width, height\\]\n",
        "- number of input feature on the flattened/reshaped input for Logistic Regression or MLP\n",
        "- shape of train and validation batches - \\[batch size, number of channels, width, height\\]"
      ]
    },
    {
      "cell_type": "code",
      "execution_count": 4,
      "metadata": {
        "colab": {
          "base_uri": "https://localhost:8080/"
        },
        "id": "KuluBqnnCbn5",
        "outputId": "f9aad638-dc36-4593-f550-f7d7a0979506"
      },
      "outputs": [
        {
          "output_type": "stream",
          "name": "stdout",
          "text": [
            "Datasets shapes: {'train': torch.Size([60000, 28, 28]), 'val': torch.Size([10000, 28, 28])}\n",
            "N input features: 784 Output classes: 10\n",
            "Train batch: torch.Size([64, 1, 28, 28]) torch.Size([64])\n",
            "Val batch: torch.Size([64, 1, 28, 28]) torch.Size([64])\n"
          ]
        }
      ],
      "source": [
        "# get batch to extract properties and plot example images\n",
        "# next(enumerator(dataloader)) -> creates an iterator of the dataloader and gets the next batchß\n",
        "batch_idx, (example_imgs, example_targets) = next(enumerate(mnist_train_dataloader))\n",
        "# info about the dataset\n",
        "D_in = np.prod(example_imgs.shape[1:])\n",
        "D_out = len(mnist_train_dataloader.dataset.targets.unique())\n",
        "print(\"Datasets shapes:\", {x: dataloaders[x].dataset.data.shape for x in ['train', 'val']})\n",
        "print(\"N input features:\", D_in, \"Output classes:\", D_out)\n",
        "print(\"Train batch:\", example_imgs.shape, example_targets.shape)\n",
        "batch_idx, (example_imgs, example_targets) = next(enumerate(mnist_val_dataloader))\n",
        "print(\"Val batch:\", example_imgs.shape, example_targets.shape)"
      ]
    },
    {
      "cell_type": "markdown",
      "metadata": {
        "id": "JnFAmoinjY1T"
      },
      "source": [
        "We can plot some examples with corresponding labels using the following function. This function can also receive the predicted labels."
      ]
    },
    {
      "cell_type": "code",
      "execution_count": 5,
      "metadata": {
        "colab": {
          "base_uri": "https://localhost:8080/",
          "height": 438
        },
        "id": "5ZWvjQOvC2ep",
        "outputId": "a179b884-f827-4901-a1ca-7621b8f783da"
      },
      "outputs": [
        {
          "output_type": "display_data",
          "data": {
            "text/plain": [
              "<Figure size 640x480 with 6 Axes>"
            ],
            "image/png": "[encoded data removed]"
          },
          "metadata": {}
        }
      ],
      "source": [
        "def plot_img_label_prediction(imgs, y_true, y_pred=None, shape=(2, 3)):\n",
        "    y_pred = [None] * len(y_true) if y_pred is None else y_pred\n",
        "    fig = plt.figure()\n",
        "    for i in range(np.prod(shape)):\n",
        "        plt.subplot(*shape, i+1)\n",
        "        plt.tight_layout()\n",
        "        plt.imshow(imgs[i][0], cmap='gray', interpolation='none')\n",
        "        plt.title(\"True: {} Pred: {}\".format(y_true[i], y_pred[i]))\n",
        "        plt.xticks([])\n",
        "        plt.yticks([])\n",
        "\n",
        "plot_img_label_prediction(imgs=example_imgs, y_true=example_targets, y_pred=None, shape=(2, 3))\n"
      ]
    },
    {
      "cell_type": "markdown",
      "metadata": {
        "id": "Mj3utDDuzDCj"
      },
      "source": [
        "## Question 3.1.1\n",
        "### Logistic Regression\n",
        "\n",
        "We can use a very simple Logistic Regression that receives our input images as a vector and predicts the digit. This will be our first baseline to compare with the CNNs."
      ]
    },
    {
      "cell_type": "code",
      "execution_count": 6,
      "metadata": {
        "colab": {
          "base_uri": "https://localhost:8080/"
        },
        "id": "TniyY4bQzBMS",
        "outputId": "d36fe2c6-6564-44c6-a2d4-3db11c36c521"
      },
      "outputs": [
        {
          "output_type": "stream",
          "name": "stdout",
          "text": [
            "Test score with penalty: 0.9000\n"
          ]
        }
      ],
      "source": [
        "# Use standard scaler to transform input data\n",
        "scaler = StandardScaler()\n",
        "X_train = scaler.fit_transform(np.reshape(X_train, (X_train.shape[0], -1)))\n",
        "X_val = scaler.transform(np.reshape(X_val, (X_val.shape[0],-1)))\n",
        "# Use scikit-learn Logistic Regression with C=50., multi_class='multinomial', solver='sag', tol=0.1\n",
        "clf = LogisticRegression(C =50, multi_class = 'multinomial', solver = 'sag', tol = 0.1)\n",
        "clf.fit(X_train, y_train)\n",
        "\n",
        "score = clf.score(X_val, y_val)\n",
        "\n",
        "print(\"Test score with penalty: %.4f\" % score)"
      ]
    },
    {
      "cell_type": "markdown",
      "metadata": {
        "id": "A8rylkCnrwIy"
      },
      "source": [
        "We can select the coefficients for each class and reshape them into the image shape to plot them. This allows us to visualize what are the pixels that are contributing more to the classification for each of the digits.\n",
        "\n",
        "But what happens if the digits are not centered? Will we still get such a good performance? Lets test that out later!"
      ]
    },
    {
      "cell_type": "markdown",
      "metadata": {
        "id": "kK8v34AK6xXJ"
      },
      "source": [
        "## Question 3.1.2\n",
        "### Feed-Forward Neural Network\n",
        "\n",
        "The first step is to create the functions that will allow us to implement a feed-forward neural network and manage the training and validation process.\n",
        "\n",
        "The MLP class will define the architecture of a feed-forward neural network, with a set of hidden layers (fully connected layers [nn.Linear](https://pytorch.org/docs/stable/generated/torch.nn.Linear.html)), with a activation function in between them ([relu](https://pytorch.org/docs/stable/generated/torch.nn.functional.relu.html#torch.nn.functional.relu)), and a [softmax](https://pytorch.org/docs/stable/generated/torch.nn.functional.log_softmax.html#torch.nn.functional.log_softmax) in the last layer. Since the dataset poses a multiclass classification problem, the last layer should have a number of neurons equal to the number of classes."
      ]
    },
    {
      "cell_type": "code",
      "execution_count": 7,
      "metadata": {
        "id": "In9r_o8vvNaz"
      },
      "outputs": [],
      "source": [
        "class MLP(nn.Module):\n",
        "    def __init__(self, dim_layers):\n",
        "        super(MLP, self).__init__()\n",
        "        # define layers\n",
        "        self.dim_layers = dim_layers\n",
        "        layer_list = [nn.Linear(dim_layers[i], dim_layers[i+1])for i in range(len(dim_layers) - 1)]\n",
        "        self.lin_layers = nn.ModuleList(layer_list)\n",
        "    def forward(self, X):\n",
        "        # reshape X\n",
        "        X = X.view(-1, self.dim_layers[0])\n",
        "        # apply relu\n",
        "        for layer in self.lin_layers[:-1]:\n",
        "          X = F.relu(layer(X))\n",
        "        # use softmax for output layer\n",
        "        return F.log_softmax(self.lin_layers[-1](X), dim = 1)"
      ]
    },
    {
      "cell_type": "markdown",
      "metadata": {
        "id": "h6OVD_1xUwWH"
      },
      "source": [
        "##### training validation function for the MLP and CNN"
      ]
    },
    {
      "cell_type": "code",
      "execution_count": 8,
      "metadata": {
        "id": "B1eUu01N8wIR"
      },
      "outputs": [],
      "source": [
        "def train_val_model(model, criterion, optimizer, dataloaders, num_epochs=25,\n",
        "        scheduler=None, log_interval=None):\n",
        "    since = time.time()\n",
        "\n",
        "    best_model_wts = copy.deepcopy(model.state_dict())\n",
        "    best_acc = 0.0\n",
        "\n",
        "    # init dictionaries to save losses and accuracies of training and validation\n",
        "    losses, accuracies = dict(train=[], val=[]), dict(train=[], val=[])\n",
        "\n",
        "    for epoch in range(num_epochs):\n",
        "        if log_interval is not None and epoch % log_interval == 0:\n",
        "            print('Epoch {}/{}'.format(epoch, num_epochs - 1))\n",
        "            print('-' * 10)\n",
        "\n",
        "        # execute a training and validation phase for each epoch\n",
        "        for phase in ['train', 'val']:\n",
        "            if phase == 'train':\n",
        "                model.train()  # set model to train mode\n",
        "            else:\n",
        "                model.eval()   # Set model to eval mode\n",
        "\n",
        "            running_loss = 0.0\n",
        "            running_corrects = 0\n",
        "\n",
        "            # iterate over the data\n",
        "            nsamples = 0\n",
        "            for inputs, labels in dataloaders[phase]:\n",
        "                inputs = inputs.to(device)\n",
        "                labels = labels.to(device)\n",
        "                nsamples += inputs.shape[0]\n",
        "\n",
        "                # set the parameter gradients to zero\n",
        "                optimizer.zero_grad()\n",
        "\n",
        "                with torch.set_grad_enabled(phase == 'train'):\n",
        "                    outputs = model(inputs)\n",
        "                    _, preds = torch.max(outputs, 1)\n",
        "                    loss = criterion(outputs, labels)\n",
        "\n",
        "                    # if in training phase, perform backward prop and optimize\n",
        "                    if phase == 'train':\n",
        "                        loss.backward()\n",
        "                        optimizer.step()\n",
        "\n",
        "                # increment loss and correct counts\n",
        "                running_loss += loss.item() * inputs.size(0)\n",
        "                running_corrects += torch.sum(preds == labels.data)\n",
        "\n",
        "            if scheduler is not None and phase == 'train':\n",
        "                scheduler.step()\n",
        "\n",
        "            epoch_loss = running_loss / nsamples\n",
        "            epoch_acc = running_corrects.double() / nsamples\n",
        "\n",
        "            losses[phase].append(epoch_loss)\n",
        "            accuracies[phase].append(epoch_acc)\n",
        "            if log_interval is not None and epoch % log_interval == 0:\n",
        "                print('{} Loss: {:.4f} Acc: {:.2f}%'.format(\n",
        "                    phase, epoch_loss, 100 * epoch_acc))\n",
        "\n",
        "            # deep copy the best model\n",
        "            if phase == 'val' and epoch_acc > best_acc:\n",
        "                best_acc = epoch_acc\n",
        "                best_model_wts = copy.deepcopy(model.state_dict())\n",
        "        if log_interval is not None and epoch % log_interval == 0:\n",
        "            print()\n",
        "\n",
        "    time_elapsed = time.time() - since\n",
        "    print('Training complete in {:.0f}m {:.0f}s'.format(\n",
        "        time_elapsed // 60, time_elapsed % 60))\n",
        "    print('Best val Acc: {:.2f}%'.format(100 * best_acc))\n",
        "\n",
        "    # load best model weights to return\n",
        "    model.load_state_dict(best_model_wts)\n",
        "\n",
        "    return model, losses, accuracies"
      ]
    },
    {
      "cell_type": "markdown",
      "metadata": {
        "id": "0CBE5tRMZEfr"
      },
      "source": [
        "We will start by creating a simple network with some hidden layers. Thus, in addition to the input, it will have 3 fully connected layer which, in this implemetation, is assigned to the input of the MLP Class. We will use the Stochastic Gradient Descend optimizer ([optim.SGD](https://pytorch.org/docs/stable/generated/torch.optim.SGD.html)) with 0.01 learning rate and 0.5 momentum. The loss function to be optimized will be negative log likelihood ([nn.NLLLoss](https://pytorch.org/docs/stable/generated/torch.nn.NLLLoss.html)). Training and validation will be managed by the function \"train_val_model\" previously define."
      ]
    },
    {
      "cell_type": "code",
      "execution_count": 11,
      "metadata": {
        "colab": {
          "base_uri": "https://localhost:8080/",
          "height": 1000
        },
        "id": "200WI3xND6_M",
        "outputId": "c3d18a81-9f5e-4666-dd4b-4b914f63e5c2"
      },
      "outputs": [
        {
          "output_type": "stream",
          "name": "stdout",
          "text": [
            "Epoch 0/14\n",
            "----------\n",
            "train Loss: 0.7970 Acc: 76.39%\n",
            "val Loss: 0.2827 Acc: 91.88%\n",
            "\n",
            "Epoch 2/14\n",
            "----------\n",
            "train Loss: 0.1761 Acc: 94.79%\n",
            "val Loss: 0.1507 Acc: 95.50%\n",
            "\n",
            "Epoch 4/14\n",
            "----------\n",
            "train Loss: 0.1097 Acc: 96.79%\n",
            "val Loss: 0.1082 Acc: 96.49%\n",
            "\n",
            "Epoch 6/14\n",
            "----------\n",
            "train Loss: 0.0753 Acc: 97.82%\n",
            "val Loss: 0.0906 Acc: 97.19%\n",
            "\n",
            "Epoch 8/14\n",
            "----------\n",
            "train Loss: 0.0555 Acc: 98.42%\n",
            "val Loss: 0.0819 Acc: 97.45%\n",
            "\n",
            "Epoch 10/14\n",
            "----------\n",
            "train Loss: 0.0408 Acc: 98.85%\n",
            "val Loss: 0.0795 Acc: 97.68%\n",
            "\n",
            "Epoch 12/14\n",
            "----------\n",
            "train Loss: 0.0301 Acc: 99.18%\n",
            "val Loss: 0.0714 Acc: 97.72%\n",
            "\n",
            "Epoch 14/14\n",
            "----------\n",
            "train Loss: 0.0221 Acc: 99.44%\n",
            "val Loss: 0.0729 Acc: 97.89%\n",
            "\n",
            "Training complete in 4m 37s\n",
            "Best val Acc: 97.89%\n"
          ]
        },
        {
          "output_type": "display_data",
          "data": {
            "text/plain": [
              "<Figure size 640x480 with 1 Axes>"
            ],
            "image/png": "[encoded data removed]"
          },
          "metadata": {}
        }
      ],
      "source": [
        "# instantiate model\n",
        "model_mlp = MLP([D_in, 256, 128, 64, D_out]).to(device)\n",
        "# instantiate optimizer and criterion\n",
        "optimizer = optim.SGD(model_mlp.parameters(), lr = 0.01, momentum = 0.5)\n",
        "criterion = nn.NLLLoss()\n",
        "\n",
        "# train and validate model\n",
        "model_mlp, losses, accuracies = train_val_model(model_mlp, criterion, optimizer, dataloaders, num_epochs = 15, log_interval = 2)\n",
        "\n",
        "# plot losses\n",
        "_ = plt.plot(losses['train'], '-b', losses['val'], '--r')"
      ]
    },
    {
      "cell_type": "markdown",
      "metadata": {
        "id": "Xw-k2B1ldd-i"
      },
      "source": [
        "## Question 3.1.3\n",
        "### Plots of the coefficients of the Logistic Regression for each class"
      ]
    },
    {
      "cell_type": "code",
      "execution_count": 13,
      "metadata": {
        "colab": {
          "base_uri": "https://localhost:8080/",
          "height": 470
        },
        "id": "2pucfjpaDF9_",
        "outputId": "fa7ed5f4-3471-4cda-cc88-b2ae1f271324"
      },
      "outputs": [
        {
          "output_type": "display_data",
          "data": {
            "text/plain": [
              "<Figure size 1000x500 with 10 Axes>"
            ],
            "image/png": "[encoded data removed]"
          },
          "metadata": {}
        }
      ],
      "source": [
        "coef = clf.coef_.copy()\n",
        "plt.figure(figsize=(10, 5))\n",
        "scale = np.abs(coef).max()\n",
        "for i in range(10):\n",
        "    l1_plot = plt.subplot(2, 5, i + 1)\n",
        "    # iterate over the classes and reshape coefficients to ensure proper visualization\n",
        "    l1_plot.imshow(coef[i].reshape(28,28), interpolation='nearest',\n",
        "                   cmap=plt.cm.RdBu, vmin=-scale, vmax=scale)\n",
        "    l1_plot.set_xticks(())\n",
        "    l1_plot.set_yticks(())\n",
        "    l1_plot.set_xlabel('Class %i' % i)\n",
        "plt.suptitle('Classification coefficient vectors for...')\n",
        "\n",
        "plt.show()"
      ]
    },
    {
      "cell_type": "markdown",
      "metadata": {
        "id": "HXhHtX1TkUba"
      },
      "source": [
        "## Question 3.2\n",
        "### Convolutional Neural Network\n",
        "\n",
        "Convolutional layers capture patterns corresponding to relevant features independently of where they occur in the input. To do so, they slide a window over the input and apply the convolution operation with a set of kernels or filters that represent the features. Although it is not their only field of application, convolutional neural networks are mainly praised for their performance on image processing tasks.\n",
        "\n",
        "The training and validation management for the CNN implementation will be performed as the feed-forward network, however we will have to define the network's architecture.\n",
        "\n",
        "For that we will implement a CNN class to define how many layers it comprises and how the layers will be connected.\n",
        "\n",
        "The initialization (`__init__`) function will define the architecture and the `forward` function will implement how the different layers are connected. This architecture will be a sequece of 2 convolutional layers ([nn.Conv2d](https://pytorch.org/docs/stable/generated/torch.nn.Conv2d.html)) (1st: output channels 10, kernel size 5; 2nd: output channels 20, kernel size 5), then 2 fully connected layers ([nn.Linear](https://pytorch.org/docs/stable/generated/torch.nn.Linear.html)) (1st: output features 50; 2nd: output features 10 (the number of classes)). Once again, the final layer will be a [softmax](https://pytorch.org/docs/stable/generated/torch.nn.functional.log_softmax.html#torch.nn.functional.log_softmax) function  that will choose the most probable class of the 10 in the input.\n",
        "\n",
        "Between the second convolution layer and the first fully connected, we will set a dropout layer ([nn.Dropout2d](https://pytorch.org/docs/stable/generated/torch.nn.Dropout2d.html)). The idea behind dropout is to disable a percentage of randomly selected neurons during each step of the training phase, in order to avoid overfitting."
      ]
    },
    {
      "cell_type": "code",
      "execution_count": 14,
      "metadata": {
        "id": "PZ0mCl24EoaM"
      },
      "outputs": [],
      "source": [
        "class CNN(nn.Module):\n",
        "    \"\"\"Basic Pytorch CNN for MNIST-like data.\"\"\"\n",
        "\n",
        "    def __init__(self):\n",
        "        super(CNN, self).__init__()\n",
        "        # define convolution and linear layers\n",
        "        self.conv1 = nn.Conv2d(1, 10, kernel_size = 5)\n",
        "        self.conv2 = nn.Conv2d(10,20, kernel_size =5)\n",
        "\n",
        "        self.conv2d_drop = nn.Dropout2d()\n",
        "\n",
        "        self.fc1 = nn.Linear(320,50)\n",
        "        self.fc2 = nn.Linear(50,10)\n",
        "\n",
        "\n",
        "    def forward(self, x, T=1.0):\n",
        "        # Batch size = 64, images 28x28 =>\n",
        "        #     x.shape = [64, 1, 28, 28]\n",
        "        x = F.relu(F.max_pool2d(self.conv1d(x),2))\n",
        "        # Convolution with 5x5 filter without padding and 10 channels =>\n",
        "        #     x.shape = [64, 10, 24, 24] since 24 = 28 - 5 + 1\n",
        "        # Max pooling with stride of 2 =>\n",
        "        #     x.shape = [64, 10, 12, 12]\n",
        "        x = F.relu(F.maxpool2d(self.conv2_drop(x),2))\n",
        "        # Convolution with 5x5 filter without padding and 20 channels =>\n",
        "        #     x.shape = [64, 20, 8, 8] since 8 = 12 - 5 + 1\n",
        "        # Max pooling with stride of 2 =>\n",
        "        #     x.shape = [64, 20, 4, 4]\n",
        "        x = x.view(-1,320)\n",
        "        # Reshape =>\n",
        "        #     x.shape = [64, 320]\n",
        "        x = F.relu(self.fc1(x))\n",
        "        x = F.dropout(x, training = self.training)\n",
        "        x = self.fc2(x)\n",
        "        x = F.log_softmax(x, dim = 1)\n",
        "\n",
        "        return x"
      ]
    },
    {
      "cell_type": "markdown",
      "metadata": {
        "id": "mv9vdZZ7OlSh"
      },
      "source": [
        "As previously, lets describe the model to be trained. We will use the ADAM optimizes ([optim.Adam](https://pytorch.org/docs/stable/generated/torch.optim.Adam.html#torch.optim.Adam)), with learning rate 0.001, and the same negative log likelihood ([nn.NLLLoss](https://pytorch.org/docs/stable/generated/torch.nn.NLLLoss.html))."
      ]
    },
    {
      "cell_type": "code",
      "execution_count": null,
      "metadata": {
        "colab": {
          "base_uri": "https://localhost:8080/",
          "height": 1000
        },
        "id": "ImTlr5JeEsb6",
        "outputId": "1cc8475e-39a4-4910-cd3b-878a668047e5"
      },
      "outputs": [
        {
          "name": "stdout",
          "output_type": "stream",
          "text": [
            "Epoch 0/24\n",
            "----------\n",
            "train Loss: 0.4578 Acc: 85.30%\n",
            "val Loss: 0.0919 Acc: 97.52%\n",
            "\n",
            "Epoch 2/24\n",
            "----------\n",
            "train Loss: 0.1463 Acc: 95.67%\n",
            "val Loss: 0.0479 Acc: 98.60%\n",
            "\n",
            "Epoch 4/24\n",
            "----------\n",
            "train Loss: 0.1136 Acc: 96.66%\n",
            "val Loss: 0.0402 Acc: 98.80%\n",
            "\n",
            "Epoch 6/24\n",
            "----------\n",
            "train Loss: 0.1018 Acc: 97.12%\n",
            "val Loss: 0.0320 Acc: 99.18%\n",
            "\n",
            "Epoch 8/24\n",
            "----------\n",
            "train Loss: 0.0868 Acc: 97.53%\n",
            "val Loss: 0.0324 Acc: 99.01%\n",
            "\n",
            "Epoch 10/24\n",
            "----------\n",
            "train Loss: 0.0808 Acc: 97.62%\n",
            "val Loss: 0.0305 Acc: 99.09%\n",
            "\n",
            "Epoch 12/24\n",
            "----------\n",
            "train Loss: 0.0737 Acc: 97.90%\n",
            "val Loss: 0.0279 Acc: 99.11%\n",
            "\n",
            "Epoch 14/24\n",
            "----------\n",
            "train Loss: 0.0718 Acc: 97.87%\n",
            "val Loss: 0.0320 Acc: 98.99%\n",
            "\n",
            "Epoch 16/24\n",
            "----------\n",
            "train Loss: 0.0686 Acc: 98.00%\n",
            "val Loss: 0.0262 Acc: 99.15%\n",
            "\n",
            "Epoch 18/24\n",
            "----------\n",
            "train Loss: 0.0689 Acc: 98.03%\n",
            "val Loss: 0.0281 Acc: 99.11%\n",
            "\n",
            "Epoch 20/24\n",
            "----------\n",
            "train Loss: 0.0626 Acc: 98.12%\n",
            "val Loss: 0.0265 Acc: 99.17%\n",
            "\n",
            "Epoch 22/24\n",
            "----------\n",
            "train Loss: 0.0630 Acc: 98.09%\n",
            "val Loss: 0.0265 Acc: 99.11%\n",
            "\n",
            "Epoch 24/24\n",
            "----------\n",
            "train Loss: 0.0628 Acc: 98.14%\n",
            "val Loss: 0.0254 Acc: 99.24%\n",
            "\n",
            "Training complete in 7m 13s\n",
            "Best val Acc: 99.24%\n"
          ]
        },
        {
          "data": {
            "image/png": "[encoded data removed]",
            "text/plain": [
              "<Figure size 640x480 with 1 Axes>"
            ]
          },
          "metadata": {},
          "output_type": "display_data"
        }
      ],
      "source": [
        "# instatiate the model, optimizer and criterion\n",
        "\n",
        "\n",
        "# train and validate model\n",
        "\n",
        "\n",
        "# plot the losses\n",
        "\n"
      ]
    },
    {
      "cell_type": "markdown",
      "metadata": {
        "id": "ULZ91b0cPhy5"
      },
      "source": [
        "We have now completed training and validation with 3 different models: Logistic Regression, Feed-Forward Network, and Convolutional Neural Network.\n",
        "\n",
        "We have seen that with the CNN, the performance of the model in the validation set, outperforms the other models (~99% accuracy against ~90% and ~98%)."
      ]
    },
    {
      "cell_type": "markdown",
      "metadata": {
        "id": "al8Axr0sdd-n"
      },
      "source": [
        "## Question 3.3\n",
        "### Number of learnable parameters of the MLP and the CNN"
      ]
    },
    {
      "cell_type": "markdown",
      "metadata": {
        "id": "PHyGUuZbTvhr"
      },
      "source": [
        "The difference in performance between CNNs and MLP is small but how many learnable parameters are we using in the MLP and in CNN models?\n",
        "\n",
        "We can find it out using the following lines of code:"
      ]
    },
    {
      "cell_type": "code",
      "execution_count": null,
      "metadata": {
        "colab": {
          "base_uri": "https://localhost:8080/"
        },
        "id": "acy0l3-YQjT2",
        "outputId": "3ba26bee-5fa5-42ff-ea44-91e242d99f1a"
      },
      "outputs": [
        {
          "name": "stdout",
          "output_type": "stream",
          "text": [
            "Number of parameters in the MLP model: 242762\n",
            "Number of parameters in the CNN model: 21840\n"
          ]
        }
      ],
      "source": [
        "# get MLP trainable model parameters\n",
        "\n",
        "print('Number of parameters in the MLP model: {}'.format(params_mlp))\n",
        "\n",
        "# get CNN trainable model parameters\n",
        "\n",
        "print('Number of parameters in the CNN model: {}'.format(params_cnn))"
      ]
    },
    {
      "cell_type": "markdown",
      "metadata": {
        "id": "Sj28CWvrMbOw"
      },
      "source": [
        "You can see that we have ~11x more learnable parameters to achieve almost the same performance.\n",
        "\n",
        "We can experiment and try to find out the number of layers and corresponding sizes."
      ]
    },
    {
      "cell_type": "markdown",
      "metadata": {
        "id": "QKB4FCyodd-p"
      },
      "source": [
        "## Question 3.4\n",
        "### Change number of MLP hidden layers to approximate the number of learnable parameters of the CNN. What is the impact on the performance?"
      ]
    },
    {
      "cell_type": "code",
      "execution_count": null,
      "metadata": {
        "colab": {
          "base_uri": "https://localhost:8080/"
        },
        "id": "2RmgJhIPMECw",
        "outputId": "cbc4b2c9-7132-46f5-9b06-8bc62af38db2"
      },
      "outputs": [
        {
          "name": "stdout",
          "output_type": "stream",
          "text": [
            "Number of parameters in the MLP model: 25450\n"
          ]
        }
      ],
      "source": [
        "# instantiate smaller MLP\n",
        "\n",
        "print('Number of parameters in the MLP model: {}'.format(params_mlp_test))"
      ]
    },
    {
      "cell_type": "markdown",
      "metadata": {
        "id": "B_oq9682QWCF"
      },
      "source": [
        "And how does that model perform? We are about to find out"
      ]
    },
    {
      "cell_type": "code",
      "execution_count": null,
      "metadata": {
        "colab": {
          "base_uri": "https://localhost:8080/",
          "height": 746
        },
        "id": "w6oa0TeBQU9E",
        "outputId": "4e0844b7-5fe0-4b96-daa4-3762fdfc1f35"
      },
      "outputs": [
        {
          "name": "stdout",
          "output_type": "stream",
          "text": [
            "Epoch 0/14\n",
            "----------\n",
            "train Loss: 0.4714 Acc: 86.95%\n",
            "val Loss: 0.2781 Acc: 91.79%\n",
            "\n",
            "Epoch 5/14\n",
            "----------\n",
            "train Loss: 0.1459 Acc: 95.84%\n",
            "val Loss: 0.1422 Acc: 95.90%\n",
            "\n",
            "Epoch 10/14\n",
            "----------\n",
            "train Loss: 0.1048 Acc: 96.97%\n",
            "val Loss: 0.1180 Acc: 96.39%\n",
            "\n",
            "Training complete in 4m 22s\n",
            "Best val Acc: 96.89%\n"
          ]
        },
        {
          "data": {
            "image/png": "[encoded data removed]",
            "text/plain": [
              "<Figure size 640x480 with 1 Axes>"
            ]
          },
          "metadata": {},
          "output_type": "display_data"
        }
      ],
      "source": [
        "#instantiate optimizer and criterion\n",
        "\n",
        "\n",
        "# train model\n",
        "\n",
        "\n",
        "#plot losses\n",
        "\n"
      ]
    },
    {
      "cell_type": "markdown",
      "metadata": {
        "id": "rpmgachOUCnX"
      },
      "source": [
        "We can see a drop in performance compared with the previous MLP model. So we can understand that although we have less learnable parameters, due to properties of CNNs (e.g., invariance and parameter sharing), which allow them to have fewer weights as some parameters are shared.\n",
        "\n",
        "## Question 3.5\n",
        "### What happens in each of the classifiers if for some reason your validation set does not always have the digits centered in your input image?\n",
        "\n",
        "CNNs are expected to be invariant to the location where important features occur in the input. In fact, it's not unusual that there is a dataset shift where the data acquisition process suffers some modification. We will do this by applying a transformation with horizontal translations to our validation dataset and see how robust each model is to these shifts.\n",
        "\n",
        "We can do this by going back to **0.1 - Create Dataloaders -\n",
        "MNIST dataset** cell to define the test transform using the following code\n",
        "\n",
        "```\n",
        "mnist_transform_val = transforms.Compose(\n",
        "    [transforms.ToTensor(),\n",
        "     transforms.RandomAffine(0, translate=[0.1, 0]),\n",
        "     transforms.Normalize((0.1307,), (0.3081,))])\n",
        "```\n",
        "\n",
        "and replace\n",
        "\n",
        "`mnist_val_dataset = datasets.MNIST('../data', download=True, train=False, transform=mnist_transform)`\n",
        "\n",
        "with\n",
        "\n",
        "`mnist_val_dataset = datasets.MNIST('../data', download=True, train=False, transform=mnist_transform_val)`"
      ]
    },
    {
      "cell_type": "code",
      "execution_count": null,
      "metadata": {
        "id": "5FH6naktdd-r"
      },
      "outputs": [],
      "source": [
        "# These random translations will be added in the end of this notebook, for now we skip this.\n",
        "mnist_transform_val = transforms.Compose(\n",
        "    [transforms.ToTensor(),\n",
        "     transforms.RandomAffine(0, translate=[0.1, 0]),\n",
        "     transforms.Normalize((0.1307,), (0.3081,))])\n",
        "\n",
        "# Create MNIST validation dataloaders using transform validation with translation\n",
        "mnist_val_dataset = datasets.MNIST('../data', download=True, train=False, transform=mnist_transform_val)\n",
        "mnist_val_dataloader = DataLoader(mnist_val_dataset, batch_size=64, shuffle=True)\n",
        "\n",
        "# MNIST Dataloader for to get data into numpy for Logistic Regression\n",
        "mnist_val_dataloader_numpy = DataLoader(mnist_val_dataset, batch_size=len(mnist_val_dataset))\n",
        "X_y_val = next(iter(mnist_val_dataloader_numpy))\n",
        "X_val = X_y_val[0].numpy()\n",
        "y_val = X_y_val[1].numpy()\n",
        "\n",
        "dataloaders = dict(train=mnist_train_dataloader, val=mnist_val_dataloader)"
      ]
    },
    {
      "cell_type": "markdown",
      "metadata": {
        "id": "VahBzmmedd-s"
      },
      "source": [
        "#### Logistic Regression"
      ]
    },
    {
      "cell_type": "code",
      "execution_count": null,
      "metadata": {
        "colab": {
          "base_uri": "https://localhost:8080/"
        },
        "id": "0Fe3K78qdd-s",
        "outputId": "ce719bf2-3d63-4ac6-fb6b-c93f0bdd8fd0"
      },
      "outputs": [
        {
          "name": "stdout",
          "output_type": "stream",
          "text": [
            "Test score with penalty: 0.7169\n"
          ]
        }
      ],
      "source": [
        "# score the model on the validation dataset after translation\n",
        "\n",
        "print(\"Test score with penalty: %.4f\" % score)"
      ]
    },
    {
      "cell_type": "markdown",
      "metadata": {
        "id": "IKXir18Udd-t"
      },
      "source": [
        "#### MLP"
      ]
    },
    {
      "cell_type": "code",
      "execution_count": null,
      "metadata": {
        "colab": {
          "base_uri": "https://localhost:8080/",
          "height": 1000
        },
        "id": "Vehhij_Odd-t",
        "outputId": "d1318f43-d74f-48f3-f8fc-5c1fe9eb4643"
      },
      "outputs": [
        {
          "name": "stdout",
          "output_type": "stream",
          "text": [
            "Epoch 0/14\n",
            "----------\n",
            "train Loss: 0.8217 Acc: 76.59%\n",
            "val Loss: 0.9435 Acc: 73.96%\n",
            "\n",
            "Epoch 2/14\n",
            "----------\n",
            "train Loss: 0.1752 Acc: 94.87%\n",
            "val Loss: 0.7523 Acc: 80.27%\n",
            "\n",
            "Epoch 4/14\n",
            "----------\n",
            "train Loss: 0.1089 Acc: 96.74%\n",
            "val Loss: 0.7016 Acc: 82.31%\n",
            "\n",
            "Epoch 6/14\n",
            "----------\n",
            "train Loss: 0.0756 Acc: 97.75%\n",
            "val Loss: 0.6575 Acc: 84.23%\n",
            "\n",
            "Epoch 8/14\n",
            "----------\n",
            "train Loss: 0.0547 Acc: 98.39%\n",
            "val Loss: 0.6414 Acc: 84.47%\n",
            "\n",
            "Epoch 10/14\n",
            "----------\n",
            "train Loss: 0.0403 Acc: 98.85%\n",
            "val Loss: 0.6263 Acc: 85.81%\n",
            "\n",
            "Epoch 12/14\n",
            "----------\n",
            "train Loss: 0.0295 Acc: 99.19%\n",
            "val Loss: 0.5816 Acc: 86.22%\n",
            "\n",
            "Epoch 14/14\n",
            "----------\n",
            "train Loss: 0.0215 Acc: 99.48%\n",
            "val Loss: 0.5697 Acc: 86.74%\n",
            "\n",
            "Training complete in 5m 23s\n",
            "Best val Acc: 86.74%\n"
          ]
        },
        {
          "data": {
            "image/png": "[encoded data removed]",
            "text/plain": [
              "<Figure size 640x480 with 1 Axes>"
            ]
          },
          "metadata": {},
          "output_type": "display_data"
        }
      ],
      "source": [
        "#instantiate the model\n",
        "\n",
        "\n",
        "#instantiate optimizer and criterion\n",
        "\n",
        "\n",
        "#train model and obtain loss and accuracy for translated validation dataset\n",
        "\n",
        "\n",
        "# plot losses\n",
        "\n"
      ]
    },
    {
      "cell_type": "markdown",
      "metadata": {
        "id": "3dxwYacqdd-u"
      },
      "source": [
        "#### CNN"
      ]
    },
    {
      "cell_type": "code",
      "execution_count": null,
      "metadata": {
        "colab": {
          "base_uri": "https://localhost:8080/",
          "height": 1000
        },
        "id": "OFq2OFmydd-u",
        "outputId": "ce6751bd-6403-4583-ba92-f5c2bd59c8ba"
      },
      "outputs": [
        {
          "name": "stdout",
          "output_type": "stream",
          "text": [
            "Epoch 0/24\n",
            "----------\n",
            "train Loss: 0.4581 Acc: 85.48%\n",
            "val Loss: 0.2038 Acc: 94.53%\n",
            "\n",
            "Epoch 2/24\n",
            "----------\n",
            "train Loss: 0.1420 Acc: 95.77%\n",
            "val Loss: 0.0888 Acc: 97.39%\n",
            "\n",
            "Epoch 4/24\n",
            "----------\n",
            "train Loss: 0.1101 Acc: 96.67%\n",
            "val Loss: 0.0766 Acc: 97.92%\n",
            "\n",
            "Epoch 6/24\n",
            "----------\n",
            "train Loss: 0.0956 Acc: 97.13%\n",
            "val Loss: 0.0739 Acc: 97.80%\n",
            "\n",
            "Epoch 8/24\n",
            "----------\n",
            "train Loss: 0.0909 Acc: 97.26%\n",
            "val Loss: 0.0616 Acc: 98.15%\n",
            "\n",
            "Epoch 10/24\n",
            "----------\n",
            "train Loss: 0.0817 Acc: 97.58%\n",
            "val Loss: 0.0641 Acc: 98.03%\n",
            "\n",
            "Epoch 12/24\n",
            "----------\n",
            "train Loss: 0.0762 Acc: 97.69%\n",
            "val Loss: 0.0565 Acc: 98.12%\n",
            "\n",
            "Epoch 14/24\n",
            "----------\n",
            "train Loss: 0.0739 Acc: 97.73%\n",
            "val Loss: 0.0530 Acc: 98.42%\n",
            "\n",
            "Epoch 16/24\n",
            "----------\n",
            "train Loss: 0.0709 Acc: 97.87%\n",
            "val Loss: 0.0549 Acc: 98.26%\n",
            "\n",
            "Epoch 18/24\n",
            "----------\n",
            "train Loss: 0.0702 Acc: 97.86%\n",
            "val Loss: 0.0516 Acc: 98.37%\n",
            "\n",
            "Epoch 20/24\n",
            "----------\n",
            "train Loss: 0.0667 Acc: 97.95%\n",
            "val Loss: 0.0567 Acc: 98.26%\n",
            "\n",
            "Epoch 22/24\n",
            "----------\n",
            "train Loss: 0.0631 Acc: 98.05%\n",
            "val Loss: 0.0503 Acc: 98.41%\n",
            "\n",
            "Epoch 24/24\n",
            "----------\n",
            "train Loss: 0.0631 Acc: 98.10%\n",
            "val Loss: 0.0470 Acc: 98.60%\n",
            "\n",
            "Training complete in 9m 12s\n",
            "Best val Acc: 98.60%\n"
          ]
        },
        {
          "data": {
            "image/png": "[encoded data removed]",
            "text/plain": [
              "<Figure size 640x480 with 1 Axes>"
            ]
          },
          "metadata": {},
          "output_type": "display_data"
        }
      ],
      "source": [
        "# instantiate model, optimizer and criterion\n",
        "\n",
        "\n",
        "# train model and obtain loss and accuracy for the translated validation dataset\n",
        "\n",
        "\n",
        "# plot losses\n",
        "\n"
      ]
    },
    {
      "cell_type": "markdown",
      "metadata": {
        "id": "-5gcf_gMlcqI"
      },
      "source": [
        "After rerunning the different models we can see that the accuracy of the Logistic Regression drops from ~90% to ~72%, the MLP drops from ~98% to ~87%, and the CNN drops from ~99% to ~97%. This shows that the learned features are more robust to variances in location, as expected."
      ]
    },
    {
      "cell_type": "markdown",
      "metadata": {
        "id": "nU3NwQ7Nuvhv"
      },
      "source": [
        "# Bonus Case - Attention with small images and CNNs.  (And how to create a dataset that takes numpy arrays)\n",
        "\n",
        "In this case we will use the Scikit-Learn's digits dataset\n",
        "\n",
        "## Scikit-Learn Digits\n",
        "\n",
        "This dataset is provided by scikit-learn and the digit images are returned as numpy ndarray. We will use PIL (Python Image Library) to convert the numpy ndarray to a image, tranform it to a tensor and normalize it.\n",
        "\n",
        "In this case we don't have a predefined Digits Dataset provided by torchvision so we will need to write a custom Dataset class and implement three functions:\n",
        "\n",
        "`__init__`, `__len__`, and `__getitem__`.\n",
        "\n",
        "Scikit-Learn return the digits images and labels as ndarrays. Each digit image is an 8x8 array.\n",
        "\n",
        "To use the previous CNN, we will use a transform to resize the images to the MNIST image size."
      ]
    },
    {
      "cell_type": "code",
      "execution_count": null,
      "metadata": {
        "id": "A4v-XFzcv9If"
      },
      "outputs": [],
      "source": [
        "SKLEARN_DIGITS_TRAIN_SIZE = 1247\n",
        "SKLEARN_DIGITS_VAL_SIZE = 550\n",
        "\n",
        "class NumpyDataset(Dataset):\n",
        "\n",
        "  def __init__(self, data, targets, transform=None):\n",
        "    self.data = torch.from_numpy(data).float()\n",
        "    self.targets = torch.from_numpy(targets).long()\n",
        "    self.transform = transform\n",
        "\n",
        "  def __getitem__(self, index):\n",
        "    x = np.expand_dims(self.data[index], axis=2)\n",
        "    y = self.targets[index]\n",
        "    if self.transform:\n",
        "        x = self.transform(x)\n",
        "    return x, y\n",
        "\n",
        "  def __len__(self):\n",
        "    return len(self.data)\n",
        "\n",
        "digits_transform = transforms.Compose([\n",
        "                                       transforms.ToPILImage(),\n",
        "                                       transforms.Resize(28),\n",
        "                                       transforms.ToTensor(),\n",
        "                                       ])\n",
        "\n",
        "# Get sklearn digits dataset\n",
        "X, y = load_digits(return_X_y=True)\n",
        "X = X.reshape((len(X), 8, 8))\n",
        "y_train = y[:-SKLEARN_DIGITS_VAL_SIZE]\n",
        "y_val = y[-SKLEARN_DIGITS_VAL_SIZE:]\n",
        "X_train = X[:-SKLEARN_DIGITS_VAL_SIZE]\n",
        "X_val = X[-SKLEARN_DIGITS_VAL_SIZE:]\n",
        "\n",
        "digits_train_dataset = NumpyDataset(X_train, y_train, transform=digits_transform)\n",
        "digits_val_dataset = NumpyDataset(X_val, y_val, transform=digits_transform)\n",
        "digits_train_dataloader = torch.utils.data.DataLoader(digits_train_dataset, batch_size=64, shuffle=True)\n",
        "digits_val_dataloader = torch.utils.data.DataLoader(digits_val_dataset, batch_size=64, shuffle=True)\n",
        "\n",
        "dataloaders = dict(train=digits_train_dataloader, val=digits_val_dataloader)"
      ]
    },
    {
      "cell_type": "code",
      "execution_count": null,
      "metadata": {
        "id": "dhQU3v7Zv9Ih"
      },
      "outputs": [],
      "source": [
        "# Get some examples of images and targets\n",
        "_, (example_train_imgs, example_train_targets) = next(enumerate(digits_train_dataloader))\n",
        "_, (example_val_imgs, example_val_targets) = next(enumerate(digits_val_dataloader))\n",
        "\n",
        "# Info about the dataset\n",
        "D_in = np.prod(example_imgs.shape[1:])\n",
        "D_out = len(digits_train_dataloader.dataset.targets.unique())\n",
        "\n",
        "# Output information\n",
        "print(\"Datasets shapes (before transformations):\", {x: dataloaders[x].dataset.data.shape for x in ['train', 'val']})\n",
        "print(\"N input features:\", D_in, \"Output classes:\", D_out)\n",
        "print(\"Train batch:\", example_train_imgs.shape, example_train_targets.shape)\n",
        "print(\"Val batch:\", example_val_imgs.shape, example_val_targets.shape)"
      ]
    },
    {
      "cell_type": "code",
      "execution_count": null,
      "metadata": {
        "id": "Vx78pb7Ov9Ih"
      },
      "outputs": [],
      "source": [
        "plot_img_label_prediction(imgs=example_train_imgs, y_true=example_train_targets, y_pred=None, shape=(2, 3))\n"
      ]
    },
    {
      "cell_type": "markdown",
      "metadata": {
        "id": "xbBAH9OTv9Ii"
      },
      "source": [
        "### Logistic Regression"
      ]
    },
    {
      "cell_type": "code",
      "execution_count": null,
      "metadata": {
        "id": "W46ofUE6v9Ii"
      },
      "outputs": [],
      "source": [
        "scaler = StandardScaler()\n",
        "print(X_train.squeeze().shape)\n",
        "X_train = scaler.fit_transform(np.reshape(X_train, (X_train.shape[0], -1)))\n",
        "X_val = scaler.transform(np.reshape(X_val, (X_val.shape[0], -1)))\n",
        "\n",
        "# Turn up tolerance for faster convergence\n",
        "clf = LogisticRegression(C=50., multi_class='multinomial', solver='sag', tol=0.1)\n",
        "clf.fit(X_train, y_train)\n",
        "#sparsity = np.mean(clf.coef_ == 0) * 100\n",
        "score = clf.score(X_val, y_val)\n",
        "\n",
        "print(\"Test score with penalty: %.4f\" % score)"
      ]
    },
    {
      "cell_type": "code",
      "execution_count": null,
      "metadata": {
        "id": "E_G2Rt0Gv9Ij"
      },
      "outputs": [],
      "source": [
        "coef = clf.coef_.copy()\n",
        "plt.figure(figsize=(10, 5))\n",
        "scale = np.abs(coef).max()\n",
        "for i in range(10):\n",
        "    l1_plot = plt.subplot(2, 5, i + 1)\n",
        "    l1_plot.imshow(coef[i].reshape(8, 8), interpolation='nearest',\n",
        "                   cmap=plt.cm.RdBu, vmin=-scale, vmax=scale)\n",
        "    l1_plot.set_xticks(())\n",
        "    l1_plot.set_yticks(())\n",
        "    l1_plot.set_xlabel('Class %i' % i)\n",
        "plt.suptitle('Classification coefficient vectors for...')\n",
        "\n",
        "plt.show()"
      ]
    },
    {
      "cell_type": "markdown",
      "metadata": {
        "id": "PfYdXpde4bg0"
      },
      "source": [
        "### Feed-forward using digits dataset"
      ]
    },
    {
      "cell_type": "code",
      "execution_count": null,
      "metadata": {
        "id": "UDKn4WS636Bg"
      },
      "outputs": [],
      "source": [
        "model = MLP([D_in, 512, 256, 128, 64, D_out]).to(device)\n",
        "\n",
        "optimizer = optim.SGD(model.parameters(), lr=0.01, momentum=0.5)\n",
        "criterion = nn.NLLLoss()\n",
        "\n",
        "model, losses, accuracies = train_val_model(model, criterion, optimizer, dataloaders,\n",
        "                       num_epochs=20, log_interval=2)\n",
        "\n",
        "_ = plt.plot(losses['train'], '-b', losses['val'], '--r')"
      ]
    },
    {
      "cell_type": "code",
      "execution_count": null,
      "metadata": {
        "id": "R9ImEBeo4MW6"
      },
      "outputs": [],
      "source": [
        "model = CNN().to(device)\n",
        "optimizer = torch.optim.Adam(model.parameters(), lr=0.001)\n",
        "criterion = nn.NLLLoss()\n",
        "\n",
        "model, losses, accuracies = train_val_model(model, criterion, optimizer, dataloaders,\n",
        "                       num_epochs=50, log_interval=10)\n",
        "\n",
        "_ = plt.plot(losses['train'], '-b', losses['val'], '--r')"
      ]
    },
    {
      "cell_type": "markdown",
      "metadata": {
        "id": "uIhei09Ruvf-"
      },
      "source": [
        "# Bonus Information - Visualizing CNN filters\n",
        "\n",
        "Some work have been done to demonstrate the type of features learned by different filters in different layers.\n",
        "\n",
        "For instance, considering a known CNN called **VGG16** which has the following architecture\n",
        "\n",
        "![image](https://media.geeksforgeeks.org/wp-content/uploads/20200219152327/conv-layers-vgg16.jpg)\\[taken from: https://www.geeksforgeeks.org/vgg-16-cnn-model/ \\]\n",
        "\n",
        "these would be some of the filters from some of the layers:\n",
        "<table border=0 width=\"500px\" >\n",
        "\t<tbody>\n",
        "\t\t<tr>\n",
        "\t\t\t<td width=\"19%\" align=\"center\"> Layer 2 <br /> (Conv 1-2)</td>\n",
        "\t\t\t<td width=\"27%\" align=\"center\"> <img src=\"https://raw.githubusercontent.com/utkuozbulak/pytorch-cnn-visualizations/master/results/layer_visualizations/layer_vis_l2_f1.jpg\"> </td>\n",
        "\t\t\t<td width=\"27%\" align=\"center\"> <img src=\"https://raw.githubusercontent.com/utkuozbulak/pytorch-cnn-visualizations/master/results/layer_visualizations/layer_vis_l2_f21.jpg\"> </td>\n",
        "\t\t\t<td width=\"27%\" align=\"center\"> <img src=\"https://raw.githubusercontent.com/utkuozbulak/pytorch-cnn-visualizations/master/results/layer_visualizations/layer_vis_l2_f54.jpg\"> </td>\n",
        "\t\t</tr>\n",
        "\t\t<tr>\n",
        "\t\t\t<td width=\"19%\" align=\"center\"> Layer 10 <br /> (Conv 2-1)</td>\n",
        "\t\t\t<td width=\"27%\" align=\"center\"> <img src=\"https://raw.githubusercontent.com/utkuozbulak/pytorch-cnn-visualizations/master/results/layer_visualizations/layer_vis_l10_f7.jpg\"> </td>\n",
        "\t\t\t<td width=\"27%\" align=\"center\"> <img src=\"https://raw.githubusercontent.com/utkuozbulak/pytorch-cnn-visualizations/master/results/layer_visualizations/layer_vis_l10_f10.jpg\"> </td>\n",
        "\t\t\t<td width=\"27%\" align=\"center\"> <img src=\"https://raw.githubusercontent.com/utkuozbulak/pytorch-cnn-visualizations/master/results/layer_visualizations/layer_vis_l10_f69.jpg\"> </td>\n",
        "\t\t</tr>\n",
        "\t\t<tr>\n",
        "\t\t\t<td width=\"19%\" align=\"center\"> Layer 17 <br /> (Conv 3-1)</td>\n",
        "\t\t\t<td width=\"27%\" align=\"center\"> <img src=\"https://raw.githubusercontent.com/utkuozbulak/pytorch-cnn-visualizations/master/results/layer_visualizations/layer_vis_l17_f4.jpg\"> </td>\n",
        "\t\t\t<td width=\"27%\" align=\"center\"> <img src=\"https://raw.githubusercontent.com/utkuozbulak/pytorch-cnn-visualizations/master/results/layer_visualizations/layer_vis_l17_f8.jpg\"> </td>\n",
        "\t\t\t<td width=\"27%\" align=\"center\"> <img src=\"https://raw.githubusercontent.com/utkuozbulak/pytorch-cnn-visualizations/master/results/layer_visualizations/layer_vis_l17_f9.jpg\"> </td>\n",
        "\t\t</tr>\n",
        "\t\t<tr>\n",
        "\t\t\t<td width=\"19%\" align=\"center\"> Layer 24 <br /> (Conv 4-1)</td>\n",
        "\t\t\t<td width=\"27%\" align=\"center\"> <img src=\"https://raw.githubusercontent.com/utkuozbulak/pytorch-cnn-visualizations/master/results/layer_visualizations/layer_vis_l24_f4.jpg\"> </td>\n",
        "\t\t\t<td width=\"27%\" align=\"center\"> <img src=\"https://raw.githubusercontent.com/utkuozbulak/pytorch-cnn-visualizations/master/results/layer_visualizations/layer_vis_l24_f17.jpg\"> </td>\n",
        "\t\t\t<td width=\"27%\" align=\"center\"> <img src=\"https://raw.githubusercontent.com/utkuozbulak/pytorch-cnn-visualizations/master/results/layer_visualizations/layer_vis_l24_f22.jpg\"> </td>\n",
        "\t\t</tr>\n",
        "\t</tbody>\n",
        "</table>\n",
        "\n",
        "or obtain the class activations:\n",
        "<table border=0 width=\"500px\" >\n",
        "\t<tbody>\n",
        "    <tr>\t\t<td width=\"27%\" align=\"center\"> Input Image </td>\n",
        "\t\t\t<td width=\"27%\" align=\"center\"> Layer Vis. (Filter=0)</td>\n",
        "\t\t\t<td width=\"27%\" align=\"center\"> Filter Vis. (Layer=29)</td>\n",
        "\t\t</tr>\n",
        "<tr>\n",
        "\t\t\t<td width=\"27%\"> <img src=\"https://raw.githubusercontent.com/utkuozbulak/pytorch-cnn-visualizations/master/input_images/spider.png\"> </td>\n",
        "\t\t\t<td width=\"27%\"> <img src=\"https://raw.githubusercontent.com/utkuozbulak/cnn-gifs/master/spider_layer_graph.gif\"> </td>\n",
        "\t\t\t<td width=\"27%\" align=\"center\"> <img src=\"https://raw.githubusercontent.com/utkuozbulak/cnn-gifs/master/spider_filter_graph.gif\"> </td>\n",
        "\t\t</tr>\n",
        "\t</tbody>\n",
        "</table>\n",
        "\n",
        "\\[examples taken from: http://www.github.com/utkuozbulak/pytorch-cnn-visualizations \\]\n"
      ]
    },
    {
      "cell_type": "markdown",
      "metadata": {
        "id": "VU21L86BvAXK"
      },
      "source": [
        "# Bonus Information - Predefined architectures, pre-trained models and transfer learning\n",
        "\n",
        "Packages like [torchvision](https://pytorch.org/vision/stable/index.html) and [timm](https://rwightman.github.io/pytorch-image-models/) offer you the possibility of using predefined architectures or even use pre-trained models that can be used to fine tune the models for that same task or used for transfer learning.\n",
        "\n",
        "Besides datasets, transforms and others, **Torchvision** has a large number of predefined architecture with the possibility of loading the pre-trained weights."
      ]
    },
    {
      "cell_type": "markdown",
      "metadata": {
        "id": "w_1YpmkV-PbU"
      },
      "source": [
        "#### Torchvision classification models examples\n",
        "\n"
      ]
    },
    {
      "cell_type": "code",
      "execution_count": null,
      "metadata": {
        "id": "l5yOWA9l4lrF"
      },
      "outputs": [],
      "source": [
        "import torchvision.models as models\n",
        "\n",
        "# construct a model with random weights to be trained\n",
        "resnet18 = models.resnet18()\n",
        "\n",
        "# load a pre-trained model\n",
        "resnet18 = models.resnet18(pretrained=True)"
      ]
    },
    {
      "cell_type": "markdown",
      "metadata": {
        "id": "nAsfqUIyDBD7"
      },
      "source": [
        "For examples of different models and how to use pre-trained weights please visit https://pytorch.org/vision/stable/models.html#\n",
        "\n",
        "\n",
        "\n",
        "Another possibility is **timm** which contains models for classification only.\n",
        "In **timm** you are not restricted to have inputs only with 1/3-channels, allowing you to use architectures or pre-trained models using images that have 2 or > 3-channels."
      ]
    },
    {
      "cell_type": "markdown",
      "metadata": {
        "id": "4zS8Ykbo-ZUg"
      },
      "source": [
        "#### timm classification models examples"
      ]
    },
    {
      "cell_type": "code",
      "execution_count": null,
      "metadata": {
        "id": "w0FQYnKQ-lr_"
      },
      "outputs": [],
      "source": [
        "if 'google.colab' in str(get_ipython()):\n",
        "  !pip install -q timm\n",
        "import timm\n",
        "\n",
        "# list all models\n",
        "print(timm.list_models())\n",
        "\n",
        "# list pre-trained models\n",
        "print(timm.list_models(pretrained=True))\n",
        "\n",
        "# list models architectures by wildcards\n",
        "print(timm.list_models('*resne*t*'))\n",
        "\n",
        "# construct a model with random weights to be trained\n",
        "model = timm.create_model('resnet18')\n",
        "\n",
        "# load a pre-trained model\n",
        "model = timm.create_model('resnet18', pretrained=True)"
      ]
    },
    {
      "cell_type": "markdown",
      "metadata": {
        "id": "OSEwqB8ADIao"
      },
      "source": [
        "For more details on how to use this package visit https://rwightman.github.io/pytorch-image-models/"
      ]
    },
    {
      "cell_type": "code",
      "execution_count": null,
      "metadata": {
        "id": "kaank-9kDI72"
      },
      "outputs": [],
      "source": []
    }
  ],
  "metadata": {
    "accelerator": "GPU",
    "colab": {
      "provenance": [],
      "toc_visible": true
    },
    "kernelspec": {
      "display_name": "Python 3",
      "language": "python",
      "name": "python3"
    },
    "language_info": {
      "codemirror_mode": {
        "name": "ipython",
        "version": 3
      },
      "file_extension": ".py",
      "mimetype": "text/x-python",
      "name": "python",
      "nbconvert_exporter": "python",
      "pygments_lexer": "ipython3",
      "version": "3.9.2"
    }
  },
  "nbformat": 4,
  "nbformat_minor": 0
}